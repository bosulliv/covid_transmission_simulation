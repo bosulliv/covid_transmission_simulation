{
 "cells": [
  {
   "cell_type": "code",
   "execution_count": 1,
   "metadata": {},
   "outputs": [],
   "source": [
    "import numpy as np\n",
    "import pandas as pd\n",
    "import matplotlib.pyplot as plt"
   ]
  },
  {
   "cell_type": "code",
   "execution_count": 44,
   "metadata": {},
   "outputs": [],
   "source": [
    "# Single family model\n",
    "# made up of home and events\n",
    "# start with a weekly calendar\n",
    "# assign probability distributions"
   ]
  },
  {
   "cell_type": "code",
   "execution_count": 86,
   "metadata": {},
   "outputs": [],
   "source": [
    "class Place():\n",
    "    \"\"\" A place contains people in an event. It has a volume of air, a degree of ventilation,\n",
    "    \"\"\"\n",
    "    def __init__(self, volume):\n",
    "        \"\"\" init \"\"\"\n",
    "        # variables between 0 and 1\n",
    "        self.case_density = 0.05 # 1 in 20 infected and transmissable\n",
    "\n",
    "        # Variables for event space, m^3\n",
    "        self.volume = volume\n",
    "        self.ventilation = 0.1 # volume percent removed per hour\n",
    "        self.loud = 0.5 # 1 = loud choir. 0.5 = loud cafe. 0.1 = library?\n",
    "        self.mask = 0.05  # 5% mask wearing\n",
    "        self.lft = 0.01 # proportion of those taking and acting on LFT\n",
    "        self.starting_virus_density = 0 # particles/m^3\n"
   ]
  },
  {
   "cell_type": "code",
   "execution_count": 87,
   "metadata": {},
   "outputs": [],
   "source": [
    "cafe = Place(volume=5*15)"
   ]
  },
  {
   "cell_type": "code",
   "execution_count": 120,
   "metadata": {},
   "outputs": [],
   "source": [
    "class Crowd():\n",
    "    \"\"\" Create a random crowd with given features \"\"\"\n",
    "    def __init__(self, size=25, case_density=0.05, lfr_density=0.1, mask_density=0.1):\n",
    "        self.size = size\n",
    "        self.case_density = case_density\n",
    "        self.lft_density = lfr_density\n",
    "        self.mask_density = mask_density\n",
    "        self.peer_pressure = 0.1 # How likely will I wear a mask given most are not?\n",
    "\n",
    "        # Calculations\n",
    "        self.people_infected = np.round(self.size * self.case_density)\n",
    "        self._people_infected()\n",
    "\n",
    "    def _people_infected(self):\n",
    "        \"\"\" probability of people being transmissiable.\n",
    "        Sample from a bimomial distribution \"\"\"\n",
    "        mean_infected = self.case_density * self.size\n",
    "        scenarios = np.random.binomial(self.size, self.case_density, 1000)\n",
    "        self.people_infected = np.random.choice(scenarios, size=None)\n",
    "\n",
    "    def people(self):\n",
    "        return self.size\n",
    "    \n",
    "    def infected(self):\n",
    "        return self.people_infected"
   ]
  },
  {
   "cell_type": "code",
   "execution_count": 121,
   "metadata": {},
   "outputs": [],
   "source": [
    "cafe_crowd = Crowd()"
   ]
  },
  {
   "cell_type": "code",
   "execution_count": 122,
   "metadata": {},
   "outputs": [],
   "source": [
    "class Me():\n",
    "    def __init__(self, lfr=0.1, mask=0.9, risk_appetite=0.2):\n",
    "        # Variables for me\n",
    "        self.immunity = 0.1 # 1 in 10 chance of no infection even with virus particles\n",
    "        self.mask_dilution = 0.25 # guess. Mask only allows 25% particles to flow"
   ]
  },
  {
   "cell_type": "code",
   "execution_count": 123,
   "metadata": {},
   "outputs": [],
   "source": [
    "me = Me()"
   ]
  },
  {
   "cell_type": "code",
   "execution_count": 125,
   "metadata": {},
   "outputs": [],
   "source": [
    "class Event():\n",
    "    \"\"\" And event is a combination of people and place \"\"\"\n",
    "    def __init__(self, me, crowd, place, duration):\n",
    "        \"\"\"  \"\"\"\n",
    "        self.me = me\n",
    "        self.crowd = crowd\n",
    "        self.place = place\n",
    "        self.duration = duration # how long in this place\n",
    "        self._process()\n",
    "    \n",
    "    def _process(self):\n",
    "        # anybody infectious?\n",
    "        if self.crowd.infected() == 0:\n",
    "            print(\"Safe\", self.crowd.people())\n",
    "        else:\n",
    "            print(\"Doomed\", self.crowd.people(), self.crowd.infected())\n",
    "    \n",
    "    def _virus_met(self):\n",
    "        \"\"\" If I assume infected people are there all the time, will the\n",
    "        virus reach me in enough quantity? This is extrmely finger in air\n",
    "        calibration.\n",
    "        \n",
    "        Particles diffuse over time. Ventilation acts in the opposite direction\n",
    "        and may take away more than is added.\n",
    "        \n",
    "        Masks then dilute any that are met.\n",
    "        \n",
    "        I'm going to use this study to start:\n",
    "            https://jamanetwork.com/journals/jamanetworkopen/fullarticle/2768712\n",
    "            \n",
    "        I am also going to assume a threshold of 300 particles for Omicron to trigger\n",
    "        infection - with some binomial randomisation\n",
    "        \"\"\"\n",
    "        pass\n",
    "\n",
    "    def _brownian_motion(self):\n",
    "        \"\"\" Model diffusion using brownian motion. Assume individuals have a fixed production\n",
    "        of virus per unit time. This spreads through a volume over time increasing the density.\n",
    "        But it is diluted by ventilation. \"\"\"\n",
    "        pass"
   ]
  },
  {
   "cell_type": "code",
   "execution_count": 126,
   "metadata": {},
   "outputs": [
    {
     "name": "stdout",
     "output_type": "stream",
     "text": [
      "Safe 12\n",
      "Safe 5\n",
      "Safe 11\n",
      "Safe 16\n",
      "Doomed 32 5\n",
      "Safe 4\n",
      "Safe 4\n",
      "Safe 8\n",
      "Doomed 20 1\n",
      "Safe 5\n",
      "Safe 9\n",
      "Doomed 10 2\n",
      "Doomed 25 1\n",
      "Safe 10\n",
      "Safe 4\n",
      "Doomed 16 1\n",
      "Safe 15\n",
      "Doomed 16 2\n",
      "Doomed 33 2\n",
      "Doomed 8 2\n",
      "Safe 22\n",
      "Doomed 16 1\n",
      "Doomed 12 1\n",
      "Doomed 16 1\n",
      "Safe 12\n",
      "Doomed 4 1\n",
      "Safe 7\n",
      "Doomed 23 2\n",
      "Safe 4\n",
      "Doomed 6 1\n"
     ]
    }
   ],
   "source": [
    "# Experiment with different virus density\n",
    "for _ in range(30):\n",
    "    people = round(np.random.normal(15, 8))\n",
    "    people = max(people, 0)\n",
    "    cafe_crowd = Crowd(size=people, case_density=0.05)\n",
    "    ppl = Event(me=me, place=ww_cafe, crowd=cafe_crowd, duration=120)"
   ]
  },
  {
   "cell_type": "code",
   "execution_count": 100,
   "metadata": {},
   "outputs": [],
   "source": [
    "# Risk appetite changes the frequency of events, and those events \n",
    "# are more cautious. It can be a wrapper around calls to crowd\n",
    "# and events"
   ]
  },
  {
   "cell_type": "markdown",
   "metadata": {},
   "source": [
    "## Equations\n",
    "\n",
    "Build equations to govern build up or reduction of virus\n",
    "\n",
    "$$\n",
    "    place.virus\\_density = place.start\\_density + event.duration(corwd.production\\_density - place.ventilation\\_density)\n",
    "$$\n",
    "  \n",
    "$$\n",
    "    production\\_density = crowd.infected\\_people * crowd.production\\_rate * crowd.mask\n",
    "$$\n",
    "  \n",
    "$$\n",
    "    crowd.infected\\_people = random(crowd.virus\\_density * crowd.size) * crowd.lft\\_density\n",
    "$$\n",
    "\n",
    "Where you see random - this is a sample from a binomial distribution: Just mulutiplying everything by the average doesn't give a good expressiuon for the variation which occurs in small settings. And infected people are integers, not floats.\n",
    "\n",
    "When you play with the variables, the biggest risk to infection is how many infections are in the community. It is hard to calibrate the other variables, but I suspect duration contributes the most. For a short point in time, there was widespread delibarate non-symptomatic LFT - people testing before they meet others. \n",
    "\n",
    "It was really interesting playing with the values to see what provides for no infected people on a regular basis. And it really brings to life how big a difference the case density makes. I don't have a lot of time to research papers to calibrate the estimates I have used. The intent of this work is to understand how the variables interact.\n",
    "\n"
   ]
  },
  {
   "cell_type": "code",
   "execution_count": null,
   "metadata": {},
   "outputs": [],
   "source": []
  }
 ],
 "metadata": {
  "kernelspec": {
   "display_name": "Python 3",
   "language": "python",
   "name": "python3"
  },
  "language_info": {
   "codemirror_mode": {
    "name": "ipython",
    "version": 3
   },
   "file_extension": ".py",
   "mimetype": "text/x-python",
   "name": "python",
   "nbconvert_exporter": "python",
   "pygments_lexer": "ipython3",
   "version": "3.6.13"
  }
 },
 "nbformat": 4,
 "nbformat_minor": 4
}
