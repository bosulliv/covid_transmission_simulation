{
 "cells": [
  {
   "cell_type": "code",
   "execution_count": 1,
   "metadata": {},
   "outputs": [],
   "source": [
    "import numpy as np\n",
    "import pandas as pd\n",
    "import matplotlib.pyplot as plt"
   ]
  },
  {
   "cell_type": "code",
   "execution_count": 2,
   "metadata": {},
   "outputs": [],
   "source": [
    "# Single family model\n",
    "# made up of home and events\n",
    "# start with a weekly calendar\n",
    "# assign probability distributions"
   ]
  },
  {
   "cell_type": "code",
   "execution_count": 38,
   "metadata": {},
   "outputs": [],
   "source": [
    "class Event():\n",
    "    \"\"\" Base class \"\"\"\n",
    "    def __init__(self, people, duration, peer_pressure):\n",
    "        \"\"\" init \"\"\"\n",
    "        # variables between 0 and 1\n",
    "        self.people = people\n",
    "        self.case_density = 0.05 # 1 in 20 infected and transmissable\n",
    "\n",
    "        # Variables for event space\n",
    "        self.density = 0.5 # 0 just me, 0.5 = cafe, 1 = packed tube\n",
    "        self.ventilation = 0.01 # 1 outside, 0 inside, small space no ventilation\n",
    "        self.mask = 0.05  # 5% mask wearing\n",
    "        self.test = 0.01  # 1% test prior to attendance\n",
    "        self.duration = duration # how long in this place\n",
    "        self.peer_pressure = 0.1 # How likely will I wear a mask given most are not?\n",
    "\n",
    "        # Variables for me\n",
    "        self.immunity = 0.1 # 1 in 10 chance of no infection even with virus particles\n",
    "        self.mask_dilution = 0.25 # guess. Mask only allows 25% particles to flow\n",
    "        \n",
    "        # Calculations\n",
    "        self.people_infected = np.round(self.people * self.case_density)\n",
    "        self._people_infected()\n",
    "        self.virus_met = 0\n",
    "        self._virus_met()\n",
    "    \n",
    "    def _people_infected(self):\n",
    "        \"\"\" probability of people being transmissiable \"\"\"\n",
    "        mean_infected = self.case_density * self.people\n",
    "        scenarios = np.random.binomial(self.people, self.case_density, 1000)\n",
    "        self.people_infected = np.random.choice(scenarios, size=None)\n",
    "    \n",
    "    def _virus_met(self):\n",
    "        \"\"\" If I assume infected people are there all the time, will the\n",
    "        virus reach me in enough quantity? This is extrmely finger in air\n",
    "        calibration.\n",
    "        \n",
    "        Particles diffuse over time. Ventilation acts in the opposite direction\n",
    "        and may take away more than is added.\n",
    "        \n",
    "        Masks then dilute any that are met\n",
    "        \"\"\"\n",
    "        \n",
    "    def _brownian_motion(self):\n",
    "        \"\"\" Model diffusion using brownian motion. Assume individuals have a fixed production\n",
    "        of virus per unit time. This spreads through a volume over time increasing the density.\n",
    "        But it is diluted by ventilation. \"\"\"\n",
    "        pass"
   ]
  },
  {
   "cell_type": "code",
   "execution_count": 39,
   "metadata": {},
   "outputs": [
    {
     "data": {
      "text/plain": [
       "1"
      ]
     },
     "execution_count": 39,
     "metadata": {},
     "output_type": "execute_result"
    }
   ],
   "source": [
    "cafe = Event(people=25, duration=120, peer_pressure=0.1)\n",
    "cafe.people_infected"
   ]
  },
  {
   "cell_type": "code",
   "execution_count": null,
   "metadata": {},
   "outputs": [],
   "source": []
  }
 ],
 "metadata": {
  "kernelspec": {
   "display_name": "Python 3",
   "language": "python",
   "name": "python3"
  },
  "language_info": {
   "codemirror_mode": {
    "name": "ipython",
    "version": 3
   },
   "file_extension": ".py",
   "mimetype": "text/x-python",
   "name": "python",
   "nbconvert_exporter": "python",
   "pygments_lexer": "ipython3",
   "version": "3.6.13"
  }
 },
 "nbformat": 4,
 "nbformat_minor": 4
}
